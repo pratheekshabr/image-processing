{
 "cells": [
  {
   "cell_type": "code",
   "execution_count": null,
   "id": "0925db77",
   "metadata": {},
   "outputs": [],
   "source": [
    "from PIL import Image\n",
    "from PIL import ImageEnhance\n",
    "image=Image.open('puppy.jpg')\n",
    "image.show()\n",
    "enh_bri=ImageEnhance.Brightness(image)\n",
    "brightness=1.5\n",
    "image_brightned=enh_bri.enhance(brightness)\n",
    "image_brightned.show()\n",
    "enh_col=ImageEnhance.Color(image)\n",
    "color=1.5\n",
    "image_colored=enh_col.enhance(color)\n",
    "image_colored.show()\n",
    "enh_con=ImageEnhance.Contrast(image)\n",
    "contrast=1.5\n",
    "image_contrasted=enh_col.enhance(contrast)\n",
    "image_contrasted.show()\n",
    "\n",
    "enh_sha=ImageEnhance.Sharpness(image)\n",
    "sharpness=3.0\n",
    "image_sharped=enh_sha.enhance(sharpness)\n",
    "image_sharped.show()"
   ]
  },
  {
   "cell_type": "code",
   "execution_count": null,
   "id": "d34549ab",
   "metadata": {},
   "outputs": [],
   "source": [
    "import cv2 \n",
    "img=cv2.imread(\"D:\\pratheeksha\\puppy.jpg\")\n",
    "gray=cv2.cvtColor(img,cv2.COLOR_BGR2GRAY)\n",
    "hsv=cv2.cvtColor(img,cv2.COLOR_BGR2HSV)\n",
    "lab=cv2.cvtColor(img,cv2.COLOR_BGR2LAB)\n",
    "hls=cv2.cvtColor(img,cv2.COLOR_BGR2HLS)\n",
    "yuv=cv2.cvtColor(img,cv2.COLOR_BGR2YUV)\n",
    "cv2.imshow(\"GRAY image\",gray)\n",
    "cv2.imshow(\"HSV image\",hsv)\n",
    "cv2.imshow(\"LAB image\",lab)\n",
    "cv2.imshow(\"HLS image\",hls)\n",
    "cv2.imshow(\"YUV image\",yuv)\n",
    "cv2.waitKey(0)\n",
    "cv2.destroyAllWindows()"
   ]
  }
 ],
 "metadata": {
  "kernelspec": {
   "display_name": "Python 3 (ipykernel)",
   "language": "python",
   "name": "python3"
  },
  "language_info": {
   "codemirror_mode": {
    "name": "ipython",
    "version": 3
   },
   "file_extension": ".py",
   "mimetype": "text/x-python",
   "name": "python",
   "nbconvert_exporter": "python",
   "pygments_lexer": "ipython3",
   "version": "3.9.7"
  }
 },
 "nbformat": 4,
 "nbformat_minor": 5
}
