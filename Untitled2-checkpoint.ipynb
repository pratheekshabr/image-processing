{
 "cells": [
  {
   "cell_type": "code",
   "execution_count": 2,
   "id": "64edc52d",
   "metadata": {},
   "outputs": [],
   "source": [
    "from PIL import Image\n",
    "import numpy as np\n",
    "w, h = 512, 512\n",
    "data = np.zeros((h, w, 3), dtype=np.uint8)\n",
    "data[0:256, 0:256] = [0, 255, 0] # red patch in upper left\n",
    "img = Image.fromarray(data, 'RGB')\n",
    "img.save('my.png')\n",
    "img.show()"
   ]
  },
  {
   "cell_type": "code",
   "execution_count": 4,
   "id": "88019de8",
   "metadata": {},
   "outputs": [
    {
     "data": {
      "image/png": "[encoded data removed]",
      "text/plain": [
       "<Figure size 432x288 with 1 Axes>"
      ]
     },
     "metadata": {
      "needs_background": "light"
     },
     "output_type": "display_data"
    }
   ],
   "source": [
    "import numpy as np\n",
    "import matplotlib.pyplot as plt\n",
    "arr = np.zeros((256,256,3), dtype=np.uint8)\n",
    "imgsize = arr.shape[:2]\n",
    "innerColor = (255, 255, 255)\n",
    "outerColor = (0, 0, 0)\n",
    "for y in range(imgsize[1]):\n",
    "     for x in range(imgsize[0]):\n",
    "#Find the distance to the center\n",
    "       distanceToCenter = np.sqrt((x - imgsize[0]//2) ** 2 + (y - imgsize[1]//2) ** 2)\n",
    "#Make it on a scale from 0 to 1innerColor\n",
    "distanceToCenter = distanceToCenter / (np.sqrt(2) * imgsize[0]/2)\n",
    "\n",
    "#Calculate r, g, and b values\n",
    "r = outerColor[0] * distanceToCenter + innerColor[0] * (1 - distanceToCenter)\n",
    "g = outerColor[1] * distanceToCenter + innerColor[1] * (1 - distanceToCenter)\n",
    "\n",
    "b = outerColor[2] * distanceToCenter + innerColor[2] * (1 - distanceToCenter)\n",
    "#print r, g, b<br arr[y, x] =(int(r), int(g), int(b))\n",
    "plt.imshow(arr, cmap='gray')\n",
    "plt.show()"
   ]
  },
  {
   "cell_type": "code",
   "execution_count": 7,
   "id": "4354e31a",
   "metadata": {},
   "outputs": [
    {
     "ename": "SyntaxError",
     "evalue": "invalid syntax (Temp/ipykernel_12988/2350637254.py, line 2)",
     "output_type": "error",
     "traceback": [
      "\u001b[1;36m  File \u001b[1;32m\"C:\\Users\\ADMIN\\AppData\\Local\\Temp/ipykernel_12988/2350637254.py\"\u001b[1;36m, line \u001b[1;32m2\u001b[0m\n\u001b[1;33m    import matplotlib.pyplot as plt< arr = np.zeros((256,256,3), dtype=np.uint8)\u001b[0m\n\u001b[1;37m                                   ^\u001b[0m\n\u001b[1;31mSyntaxError\u001b[0m\u001b[1;31m:\u001b[0m invalid syntax\n"
     ]
    }
   ],
   "source": [
    "import numpy as np\n",
    "import matplotlib.pyplot as plt< arr = np.zeros((256,256,3), dtype=np.uint8)\n",
    "imgsize = arr.shape[:2]\n",
    "innerColor = (255, 255, 255)\n",
    "outerColor = (0, 100, 100)\n",
    "for y in range(imgsize[1]):\n",
    "    for x in range(imgsize[0]):\n",
    "#Find the distance to the center\n",
    "        distanceToCenter = np.sqrt((x - imgsize[0]//2) ** 2 + (y - imgsize[1]//2) ** 2)\n",
    "\n",
    "#Make it on a scale from 0 to 1innerColor\n",
    "distanceToCenter = distanceToCenter / (np.sqrt(2) * imgsize[0]/2)\n",
    "#Calculate r, g, and b values\n",
    "r = outerColor[0] * distanceToCenter + innerColor[0] * (1 - distanceToCenter)\n",
    "g = outerColor[1] * distanceToCenter + innerColor[1] * (1 - distanceToCenter)\n",
    "b = outerColor[2] * distanceToCenter + innerColor[2] * (1 - distanceToCenter)\n",
    "# print r, g, b\n",
    "arr[y, x] = (int(r), int(g), int(b))\n",
    "\n",
    "plt.imshow(arr, cmap='gray')\n",
    "plt.show()"
   ]
  },
  {
   "cell_type": "code",
   "execution_count": null,
   "id": "fe6068e3",
   "metadata": {},
   "outputs": [],
   "source": [
    "import cv2\n",
    "import matplotlib.image as mping\n",
    "import matplotlib.pyplot as plt\n",
    "\n",
    "#reading image files\n",
    "img1=cv2.imread('fish.jpg')\n",
    "img2=cv2.imread('resize.jpg')\n",
    "\n",
    "#applying numpy additional on images\n",
    "fimg1=img1+img2\n",
    "plt.imshow(fimg1)\n",
    "plt.show()\n",
    "\n",
    "#Saving the output image\n",
    "cv2.imwrite('output.jpg',fimg1)\n",
    "fimg2=img1-img2\n",
    "plt.imshow(fimg2)\n",
    "plt.show()\n",
    "\n",
    "#saving the output image\n",
    "cv2.imwrite('output.jpg',fimg2)\n",
    "fimg3=img1*img2\n",
    "plt.imshow(fimg3)\n",
    "plt.show()\n",
    "\n",
    "#saving the output image\n",
    "cv2.imwrite('output.jpg',fimg3)\n",
    "fimg4=img1/img2\n",
    "plt.imshow(fimg4)\n",
    "plt.show()\n",
    "\n",
    "#saving the output image\n",
    "cv2.imwrite('output.jpg',fimg4)"
   ]
  }
 ],
 "metadata": {
  "kernelspec": {
   "display_name": "Python 3 (ipykernel)",
   "language": "python",
   "name": "python3"
  },
  "language_info": {
   "codemirror_mode": {
    "name": "ipython",
    "version": 3
   },
   "file_extension": ".py",
   "mimetype": "text/x-python",
   "name": "python",
   "nbconvert_exporter": "python",
   "pygments_lexer": "ipython3",
   "version": "3.9.7"
  }
 },
 "nbformat": 4,
 "nbformat_minor": 5
}
