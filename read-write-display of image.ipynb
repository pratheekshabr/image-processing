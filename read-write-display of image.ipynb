{
 "cells": [
  {
   "cell_type": "code",
   "execution_count": null,
   "id": "0aa17eeb",
   "metadata": {},
   "outputs": [],
   "source": [
    "import cv2\n",
    "OriginalImg=cv2.imread('img1.jpg')\n",
    "GrayImg=cv2.imread('img1.jpg',0)\n",
    "isSaved=cv2.imwrite('D:/i.jpg',GrayImg)\n",
    "cv2.imshow('Display Original Image',OriginalImg)\n",
    "cv2.imshow('Display GrayScale image',GrayImg)\n",
    "cv2.waitKey(0)\n",
    "cv2.destroyAllWindows()\n",
    "if isSaved:\n",
    "    print('The image is successfully saved')"
   ]
  }
 ],
 "metadata": {
  "kernelspec": {
   "display_name": "Python 3 (ipykernel)",
   "language": "python",
   "name": "python3"
  },
  "language_info": {
   "codemirror_mode": {
    "name": "ipython",
    "version": 3
   },
   "file_extension": ".py",
   "mimetype": "text/x-python",
   "name": "python",
   "nbconvert_exporter": "python",
   "pygments_lexer": "ipython3",
   "version": "3.9.7"
  }
 },
 "nbformat": 4,
 "nbformat_minor": 5
}
